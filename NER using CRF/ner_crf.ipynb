{
 "cells": [
  {
   "attachments": {
    "image.png": {
     "image/png": "[encoded data removed]"
    }
   },
   "cell_type": "markdown",
   "metadata": {},
   "source": [
    "# Named Entity Recognition Machine Learning Model\n",
    "#### This model will be used to extract human names from a given sentence\n",
    "Dataset used: https://www.kaggle.com/datasets/abhinavwalia95/entity-annotated-corpus\n",
    "Entities in dataset labelled using the BIO scheme, each label prefixed with either B or I. B denotes beginning and I denotes inside. The words which are not of interest have the O tag.\n",
    "\n",
    "![image.png](attachment:image.png)"
   ]
  },
  {
   "cell_type": "markdown",
   "metadata": {},
   "source": [
    "## Preprocessing"
   ]
  },
  {
   "cell_type": "markdown",
   "metadata": {},
   "source": [
    "Read the dataset and make some observations about it"
   ]
  },
  {
   "cell_type": "code",
   "execution_count": 5,
   "metadata": {},
   "outputs": [
    {
     "data": {
      "text/html": [
       "<div>\n",
       "<style scoped>\n",
       "    .dataframe tbody tr th:only-of-type {\n",
       "        vertical-align: middle;\n",
       "    }\n",
       "\n",
       "    .dataframe tbody tr th {\n",
       "        vertical-align: top;\n",
       "    }\n",
       "\n",
       "    .dataframe thead th {\n",
       "        text-align: right;\n",
       "    }\n",
       "</style>\n",
       "<table border=\"1\" class=\"dataframe\">\n",
       "  <thead>\n",
       "    <tr style=\"text-align: right;\">\n",
       "      <th></th>\n",
       "      <th>Sentence #</th>\n",
       "      <th>Word</th>\n",
       "      <th>POS</th>\n",
       "      <th>Tag</th>\n",
       "    </tr>\n",
       "  </thead>\n",
       "  <tbody>\n",
       "    <tr>\n",
       "      <th>count</th>\n",
       "      <td>47959</td>\n",
       "      <td>1048565</td>\n",
       "      <td>1048575</td>\n",
       "      <td>1048575</td>\n",
       "    </tr>\n",
       "    <tr>\n",
       "      <th>unique</th>\n",
       "      <td>47959</td>\n",
       "      <td>35177</td>\n",
       "      <td>42</td>\n",
       "      <td>17</td>\n",
       "    </tr>\n",
       "    <tr>\n",
       "      <th>top</th>\n",
       "      <td>Sentence: 1</td>\n",
       "      <td>the</td>\n",
       "      <td>NN</td>\n",
       "      <td>O</td>\n",
       "    </tr>\n",
       "    <tr>\n",
       "      <th>freq</th>\n",
       "      <td>1</td>\n",
       "      <td>52573</td>\n",
       "      <td>145807</td>\n",
       "      <td>887908</td>\n",
       "    </tr>\n",
       "  </tbody>\n",
       "</table>\n",
       "</div>"
      ],
      "text/plain": [
       "         Sentence #     Word      POS      Tag\n",
       "count         47959  1048565  1048575  1048575\n",
       "unique        47959    35177       42       17\n",
       "top     Sentence: 1      the       NN        O\n",
       "freq              1    52573   145807   887908"
      ]
     },
     "execution_count": 5,
     "metadata": {},
     "output_type": "execute_result"
    }
   ],
   "source": [
    "import pandas as pd\n",
    "df = pd.read_csv('ner_dataset.csv', encoding=\"ISO-8859-1\")\n",
    "df.describe()"
   ]
  },
  {
   "cell_type": "markdown",
   "metadata": {},
   "source": [
    "Observations: \n",
    "- 47959 unique sentences\n",
    "- 35177 unique words\n",
    "- 17 unique tags\n",
    "\n",
    "What are the tags?"
   ]
  },
  {
   "cell_type": "code",
   "execution_count": 6,
   "metadata": {},
   "outputs": [
    {
     "data": {
      "text/plain": [
       "array(['O', 'B-geo', 'B-gpe', 'B-per', 'I-geo', 'B-org', 'I-org', 'B-tim',\n",
       "       'B-art', 'I-art', 'I-per', 'I-gpe', 'I-tim', 'B-nat', 'B-eve',\n",
       "       'I-eve', 'I-nat'], dtype=object)"
      ]
     },
     "execution_count": 6,
     "metadata": {},
     "output_type": "execute_result"
    }
   ],
   "source": [
    "df.Tag.unique()"
   ]
  },
  {
   "cell_type": "markdown",
   "metadata": {},
   "source": [
    "Check if there are any null values and remove them if there are"
   ]
  },
  {
   "cell_type": "code",
   "execution_count": 7,
   "metadata": {},
   "outputs": [
    {
     "data": {
      "text/plain": [
       "Sentence #    1000616\n",
       "Word               10\n",
       "POS                 0\n",
       "Tag                 0\n",
       "dtype: int64"
      ]
     },
     "execution_count": 7,
     "metadata": {},
     "output_type": "execute_result"
    }
   ],
   "source": [
    "df.isnull().sum()"
   ]
  },
  {
   "cell_type": "markdown",
   "metadata": {},
   "source": [
    "Let's fill in the missing values using pandas fill technique"
   ]
  },
  {
   "cell_type": "code",
   "execution_count": 8,
   "metadata": {},
   "outputs": [
    {
     "data": {
      "text/plain": [
       "Sentence #    0\n",
       "Word          0\n",
       "POS           0\n",
       "Tag           0\n",
       "dtype: int64"
      ]
     },
     "execution_count": 8,
     "metadata": {},
     "output_type": "execute_result"
    }
   ],
   "source": [
    "df = df.fillna(method=\"ffill\")\n",
    "df.isnull().sum()"
   ]
  },
  {
   "cell_type": "markdown",
   "metadata": {},
   "source": [
    "What does the data frame look like now?"
   ]
  },
  {
   "cell_type": "code",
   "execution_count": 9,
   "metadata": {},
   "outputs": [
    {
     "data": {
      "text/html": [
       "<div>\n",
       "<style scoped>\n",
       "    .dataframe tbody tr th:only-of-type {\n",
       "        vertical-align: middle;\n",
       "    }\n",
       "\n",
       "    .dataframe tbody tr th {\n",
       "        vertical-align: top;\n",
       "    }\n",
       "\n",
       "    .dataframe thead th {\n",
       "        text-align: right;\n",
       "    }\n",
       "</style>\n",
       "<table border=\"1\" class=\"dataframe\">\n",
       "  <thead>\n",
       "    <tr style=\"text-align: right;\">\n",
       "      <th></th>\n",
       "      <th>Sentence #</th>\n",
       "      <th>Word</th>\n",
       "      <th>POS</th>\n",
       "      <th>Tag</th>\n",
       "    </tr>\n",
       "  </thead>\n",
       "  <tbody>\n",
       "    <tr>\n",
       "      <th>0</th>\n",
       "      <td>Sentence: 1</td>\n",
       "      <td>Thousands</td>\n",
       "      <td>NNS</td>\n",
       "      <td>O</td>\n",
       "    </tr>\n",
       "    <tr>\n",
       "      <th>1</th>\n",
       "      <td>Sentence: 1</td>\n",
       "      <td>of</td>\n",
       "      <td>IN</td>\n",
       "      <td>O</td>\n",
       "    </tr>\n",
       "    <tr>\n",
       "      <th>2</th>\n",
       "      <td>Sentence: 1</td>\n",
       "      <td>demonstrators</td>\n",
       "      <td>NNS</td>\n",
       "      <td>O</td>\n",
       "    </tr>\n",
       "    <tr>\n",
       "      <th>3</th>\n",
       "      <td>Sentence: 1</td>\n",
       "      <td>have</td>\n",
       "      <td>VBP</td>\n",
       "      <td>O</td>\n",
       "    </tr>\n",
       "    <tr>\n",
       "      <th>4</th>\n",
       "      <td>Sentence: 1</td>\n",
       "      <td>marched</td>\n",
       "      <td>VBN</td>\n",
       "      <td>O</td>\n",
       "    </tr>\n",
       "    <tr>\n",
       "      <th>5</th>\n",
       "      <td>Sentence: 1</td>\n",
       "      <td>through</td>\n",
       "      <td>IN</td>\n",
       "      <td>O</td>\n",
       "    </tr>\n",
       "    <tr>\n",
       "      <th>6</th>\n",
       "      <td>Sentence: 1</td>\n",
       "      <td>London</td>\n",
       "      <td>NNP</td>\n",
       "      <td>B-geo</td>\n",
       "    </tr>\n",
       "    <tr>\n",
       "      <th>7</th>\n",
       "      <td>Sentence: 1</td>\n",
       "      <td>to</td>\n",
       "      <td>TO</td>\n",
       "      <td>O</td>\n",
       "    </tr>\n",
       "    <tr>\n",
       "      <th>8</th>\n",
       "      <td>Sentence: 1</td>\n",
       "      <td>protest</td>\n",
       "      <td>VB</td>\n",
       "      <td>O</td>\n",
       "    </tr>\n",
       "    <tr>\n",
       "      <th>9</th>\n",
       "      <td>Sentence: 1</td>\n",
       "      <td>the</td>\n",
       "      <td>DT</td>\n",
       "      <td>O</td>\n",
       "    </tr>\n",
       "  </tbody>\n",
       "</table>\n",
       "</div>"
      ],
      "text/plain": [
       "    Sentence #           Word  POS    Tag\n",
       "0  Sentence: 1      Thousands  NNS      O\n",
       "1  Sentence: 1             of   IN      O\n",
       "2  Sentence: 1  demonstrators  NNS      O\n",
       "3  Sentence: 1           have  VBP      O\n",
       "4  Sentence: 1        marched  VBN      O\n",
       "5  Sentence: 1        through   IN      O\n",
       "6  Sentence: 1         London  NNP  B-geo\n",
       "7  Sentence: 1             to   TO      O\n",
       "8  Sentence: 1        protest   VB      O\n",
       "9  Sentence: 1            the   DT      O"
      ]
     },
     "execution_count": 9,
     "metadata": {},
     "output_type": "execute_result"
    }
   ],
   "source": [
    "df.head(10)"
   ]
  },
  {
   "cell_type": "markdown",
   "metadata": {},
   "source": [
    "Let's clean this up a bit. The Sentence # should just be an integer, we don't need the \"Sentence :\" part."
   ]
  },
  {
   "cell_type": "code",
   "execution_count": 10,
   "metadata": {},
   "outputs": [],
   "source": [
    "df['Sentence #'] = df['Sentence #'].str.replace('Sentence: ', '').astype(int)"
   ]
  },
  {
   "cell_type": "markdown",
   "metadata": {},
   "source": [
    "Extract the individual sentences without their tags"
   ]
  },
  {
   "cell_type": "code",
   "execution_count": 11,
   "metadata": {},
   "outputs": [
    {
     "name": "stdout",
     "output_type": "stream",
     "text": [
      "   Sentence #                                                                                                                                                                  Word\n",
      "0           1                     Thousands of demonstrators have marched through London to protest the war in Iraq and demand the withdrawal of British troops from that country .\n",
      "1           2  Families of soldiers killed in the conflict joined the protesters who carried banners with such slogans as \" Bush Number One Terrorist \" and \" Stop the Bombings . \"\n"
     ]
    }
   ],
   "source": [
    "sentences_df = df.groupby('Sentence #')['Word'].apply(' '.join).reset_index()\n",
    "print(sentences_df.head(2).to_string())"
   ]
  },
  {
   "cell_type": "markdown",
   "metadata": {},
   "source": [
    "Lets prepare the data to go into the model. It will be a list of tuples with each tuple of the form ('Word', 'POS', 'Tag')"
   ]
  },
  {
   "cell_type": "code",
   "execution_count": 12,
   "metadata": {},
   "outputs": [],
   "source": [
    "def prepare_data(sentence):\n",
    "    return [(word, pos, tag) for word, pos, tag in zip(sentence['Word'], sentence['POS'], sentence['Tag'])]\n",
    "grouped = df.groupby('Sentence #').apply(prepare_data)\n",
    "sentences = [sentence for sentence in grouped]"
   ]
  },
  {
   "cell_type": "markdown",
   "metadata": {},
   "source": [
    "`sentences` is what we will pass into the model. Preprocessing is complete!"
   ]
  },
  {
   "cell_type": "markdown",
   "metadata": {},
   "source": [
    "## Training\n",
    "Now that we have preprocessed the data to pass into the model, we can train the model on this data. \n",
    "The first step is to split the data into two sets, a training set which will be used to train the model and a validation set which will be used to evaluate the performance of the model.\n",
    "\n",
    "First we will write a function which converts the word, POS and tag information into features for the model by considering the previous and current word."
   ]
  },
  {
   "cell_type": "code",
   "execution_count": 13,
   "metadata": {},
   "outputs": [],
   "source": [
    "def extract_features(sentence, index):\n",
    "    word, pos, _ = sentence[index]\n",
    "    \n",
    "    # Each word will have a set of features that will be used to train the model\n",
    "    features = {\n",
    "        'word': word,               # The word itself\n",
    "        'pos': pos,                 # Part-of-speech tag\n",
    "        'word.lower()': word.lower(),   # Lowercased word\n",
    "        'pos[:2]': pos[:2],         # First two characters of the POS tag\n",
    "    }\n",
    "\n",
    "    # current word is not the first word in the sentence\n",
    "    if index > 0:\n",
    "        prev_word, prev_pos, _ = sentence[index - 1]\n",
    "        # add features for the previous word to the features of the current word\n",
    "        features.update({\n",
    "            '-1:word.lower()': prev_word.lower(),\n",
    "            '-1:pos': prev_pos,\n",
    "        })\n",
    "\n",
    "    # current word is first word in the sentence    \n",
    "    else:\n",
    "        features['BOS'] = True # beginning of sentence\n",
    "    \n",
    "    # current word is not the last word in the sentence\n",
    "    if index < len(sentence) - 1:\n",
    "        next_word, next_pos, _ = sentence[index + 1]\n",
    "        # add features for the next word to the features of the current word\n",
    "        features.update({\n",
    "            '+1:word.lower()': next_word.lower(),\n",
    "            '+1:pos': next_pos,\n",
    "        })\n",
    "    # current word is the last word in the sentence\n",
    "    else:\n",
    "        features['EOS'] = True # end of sentence\n",
    "    \n",
    "    return features\n",
    "\n",
    "def sentence_to_features(sentence):\n",
    "    return [extract_features(sentence, i) for i in range(len(sentence))]\n",
    "\n",
    "# get the features for every word of every sentence -> this is the X input to our model\n",
    "X = [sentence_to_features(sentence) for sentence in sentences]\n",
    "# get the tag for every word of every sentence -> this is the Y input to our model\n",
    "y = [[tag for _, _, tag in sentence] for sentence in sentences]"
   ]
  },
  {
   "cell_type": "markdown",
   "metadata": {},
   "source": [
    "The above code gets the (X, y) input that we will use to train our model. \n",
    "The X data represents the input features that provide context to our model. In this case, our X data is made up of words and their POS, which will be given as context to the model to make predictions. The y are labels (in our case tags) that indicate the entity type of the word. The model learns to predict the labels (y) based on the provided features (X).\n",
    "\n",
    "Now let's split the data into training and validation sets. \n",
    "I will use 80% of the data to train the model and 20% of the data to evaluate it. This can be changed for best results."
   ]
  },
  {
   "cell_type": "code",
   "execution_count": 14,
   "metadata": {},
   "outputs": [],
   "source": [
    "train_ratio = 0.8 # 80% of data used to train\n",
    "train_index = int(train_ratio * len(X))\n",
    "\n",
    "X_train, X_val = X[:train_index], X[train_index:] \n",
    "y_train, y_val = y[:train_index], y[train_index:]"
   ]
  },
  {
   "cell_type": "markdown",
   "metadata": {},
   "source": [
    "### Create and Train Model"
   ]
  },
  {
   "cell_type": "code",
   "execution_count": 15,
   "metadata": {},
   "outputs": [],
   "source": [
    "import sklearn_crfsuite\n",
    "\n",
    "model = sklearn_crfsuite.CRF(\n",
    "    algorithm='lbfgs',\n",
    "    c1 = 0.1,\n",
    "    c2 = 0.1,\n",
    "    max_iterations=100,\n",
    "    all_possible_transitions=True\n",
    ")\n",
    "\n",
    "# Fit the training data on the model\n",
    "model.fit(X_train, y_train)\n",
    "\n",
    "# Predict the valuation set using the model\n",
    "y_val_predicted = model.predict(X_val)"
   ]
  },
  {
   "cell_type": "code",
   "execution_count": 16,
   "metadata": {},
   "outputs": [
    {
     "name": "stdout",
     "output_type": "stream",
     "text": [
      "['O', 'O', 'O', 'O', 'B-gpe', 'B-per', 'I-per', 'I-per', 'O', 'O', 'B-org', 'I-org', 'I-org', 'I-org', 'I-org', 'O', 'O', 'O', 'O', 'O', 'O', 'O', 'O', 'B-geo', 'O', 'O', 'O', 'O', 'O', 'O', 'O', 'O', 'O']\n",
      "['O', 'O', 'O', 'O', 'B-gpe', 'B-per', 'I-per', 'I-per', 'O', 'O', 'B-org', 'I-org', 'I-org', 'I-org', 'I-org', 'O', 'O', 'O', 'O', 'O', 'O', 'O', 'O', 'B-geo', 'O', 'O', 'O', 'O', 'O', 'O', 'O', 'O', 'O']\n"
     ]
    }
   ],
   "source": [
    "print(y_val[0])\n",
    "print(y_val_predicted[0])"
   ]
  },
  {
   "cell_type": "markdown",
   "metadata": {},
   "source": [
    "### Evaluate the Models Performance"
   ]
  },
  {
   "cell_type": "code",
   "execution_count": 17,
   "metadata": {},
   "outputs": [
    {
     "name": "stdout",
     "output_type": "stream",
     "text": [
      "              precision    recall  f1-score   support\n",
      "\n",
      "           O       0.23      0.09      0.13        74\n",
      "       B-geo       0.70      0.49      0.58        43\n",
      "       B-gpe       0.90      0.95      0.93      4869\n",
      "       B-per       0.98      0.96      0.97      2605\n",
      "       I-geo       0.73      0.56      0.64        39\n",
      "       B-org       0.85      0.80      0.82      3204\n",
      "       I-org       0.90      0.89      0.89      2671\n",
      "       B-tim       0.98      0.94      0.96      3459\n",
      "       B-art       0.07      0.03      0.05        30\n",
      "       I-art       0.43      0.23      0.30        26\n",
      "       I-per       0.84      0.85      0.84      1173\n",
      "       I-gpe       0.96      0.65      0.77        34\n",
      "       I-tim       0.71      0.56      0.63         9\n",
      "       B-nat       0.86      0.83      0.84      1739\n",
      "       B-eve       0.89      0.95      0.92      2110\n",
      "       I-eve       0.90      0.81      0.85       844\n",
      "       I-nat       1.00      1.00      1.00      9590\n",
      "\n",
      "   micro avg       0.93      0.93      0.93     32519\n",
      "   macro avg       0.76      0.68      0.71     32519\n",
      "weighted avg       0.93      0.93      0.93     32519\n",
      " samples avg       0.94      0.94      0.93     32519\n",
      "\n"
     ]
    }
   ],
   "source": [
    "from sklearn.preprocessing import MultiLabelBinarizer\n",
    "from sklearn import metrics\n",
    "\n",
    "mlb = MultiLabelBinarizer()\n",
    "y_val_bin = mlb.fit_transform(y_val)\n",
    "y_val_pred_bin = mlb.fit_transform(y_val_predicted)\n",
    "\n",
    "# Convert binary labels back to original labels\n",
    "label_names = mlb.classes_\n",
    "y_val_labels = mlb.inverse_transform(y_val_bin)\n",
    "y_val_pred_labels = mlb.inverse_transform(y_val_pred_bin)\n",
    "\n",
    "# Calculate classification report using label names\n",
    "classification_report = metrics.classification_report(y_val_bin, y_val_pred_bin, target_names=model.classes_)\n",
    "print(classification_report)"
   ]
  },
  {
   "cell_type": "markdown",
   "metadata": {},
   "source": [
    "Overall pretty solid results. Some classes are more accurate (B-gpe, B-per, B-org, etc) than others (B-art, I-art). The model can be tweaked if using the algorithm for a specific class."
   ]
  },
  {
   "cell_type": "markdown",
   "metadata": {},
   "source": [
    "## Algorithm Example Usage\n",
    "Lets use the model to try to extract human names from a given sentence. \n",
    "The sentence will be:\n",
    "\"Areez Visram studied at McMaster University\""
   ]
  },
  {
   "cell_type": "code",
   "execution_count": 26,
   "metadata": {},
   "outputs": [
    {
     "name": "stdout",
     "output_type": "stream",
     "text": [
      "Extracted Human Names: ['Areez Visram']\n"
     ]
    }
   ],
   "source": [
    "import nltk\n",
    "sentence = \"Areez Visram studied at McMaster University\"\n",
    "tokens = sentence.split()\n",
    "pos_tags = nltk.pos_tag(tokens)\n",
    "\n",
    "input_sequence = [(word, pos, \"O\") for word, (word, pos) in zip(tokens, pos_tags)]\n",
    "features = [sentence_to_features(input_sequence)]\n",
    "labels = model.predict(features)\n",
    "\n",
    "human_names = []\n",
    "current_name = []\n",
    "for label, (word, pos, _) in zip(labels[0], input_sequence):\n",
    "    if label == \"B-per\":\n",
    "        current_name = [word]\n",
    "    elif label == \"I-per\" and current_name:\n",
    "        current_name.append(word)\n",
    "    elif current_name:\n",
    "        human_names.append(\" \".join(current_name))\n",
    "        current_name = []\n",
    "\n",
    "# Print the extracted human names\n",
    "print(\"Extracted Human Names:\", human_names)"
   ]
  },
  {
   "cell_type": "markdown",
   "metadata": {},
   "source": [
    "The model accurately extracts my name from the sentence!"
   ]
  }
 ],
 "metadata": {
  "kernelspec": {
   "display_name": "venv",
   "language": "python",
   "name": "python3"
  },
  "language_info": {
   "codemirror_mode": {
    "name": "ipython",
    "version": 3
   },
   "file_extension": ".py",
   "mimetype": "text/x-python",
   "name": "python",
   "nbconvert_exporter": "python",
   "pygments_lexer": "ipython3",
   "version": "3.11.4"
  },
  "orig_nbformat": 4
 },
 "nbformat": 4,
 "nbformat_minor": 2
}
